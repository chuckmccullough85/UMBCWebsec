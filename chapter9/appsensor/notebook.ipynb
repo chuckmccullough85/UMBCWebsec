{
 "cells": [
  {
   "cell_type": "markdown",
   "metadata": {},
   "source": [
    "# AppSensor Sample Events\n",
    "\n",
    "This notebook contains sample events for the AppSensor framework implemented in Flask. Each event includes details such as event type, timestamp, and additional information."
   ]
  },
  {
   "cell_type": "code",
   "execution_count": 1,
   "metadata": {},
   "outputs": [],
   "source": [
    "from datetime import datetime\n",
    "\n",
    "class Event:\n",
    "    def __init__(self, event_type, timestamp, details):\n",
    "        self.event_type = event_type\n",
    "        self.timestamp = timestamp\n",
    "        self.details = details\n",
    "\n",
    "    def __repr__(self):\n",
    "        return f\"Event(event_type={self.event_type}, timestamp={self.timestamp}, details={self.details})\"\n",
    "\n",
    "# Sample events\n",
    "events = [\n",
    "    Event(event_type='LOGIN_ATTEMPT', timestamp=datetime.now(), details='User attempted to log in with username: user1'),\n",
    "    Event(event_type='LOGIN_SUCCESS', timestamp=datetime.now(), details='User logged in successfully: user1'),\n",
    "    Event(event_type='LOGIN_FAILURE', timestamp=datetime.now(), details='User failed to log in: user1'),\n",
    "    Event(event_type='DATA_ACCESS', timestamp=datetime.now(), details='User accessed sensitive data: user1'),\n",
    "    Event(event_type='LOGOUT', timestamp=datetime.now(), details='User logged out: user1')\n",
    "]\n",
    "\n",
    "for event in events:\n",
    "    print(event)"
   ]
  }
 ],
 "metadata": {
  "kernelspec": {
   "display_name": "Python 3",
   "language": "python",
   "name": "python3"
  },
  "language_info": {
   "codemirror_mode": {
    "name": "ipython",
    "version": 3
   },
   "file_extension": ".py",
   "mimetype": "text/x-python",
   "name": "python",
   "nbconvert_exporter": "python",
   "pygments_lexer": "ipython3",
   "version": "3.8.5"
  }
 },
 "nbformat": 4,
 "nbformat_minor": 4
}