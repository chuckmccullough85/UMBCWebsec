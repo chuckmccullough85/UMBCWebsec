{
 "cells": [
  {
   "cell_type": "markdown",
   "id": "28cf12f1",
   "metadata": {},
   "source": [
    "# Chapter 2: Cryptography Fundamentals\n",
    "## Simple Examples and Exercises\n",
    "\n",
    "### Course: TCPRG4005 - Secure Programming\n",
    "\n",
    "---\n",
    "\n",
    "## Learning Objectives\n",
    "\n",
    "1. **Understand** why you should never roll your own crypto\n",
    "2. **Analyze** simple cipher weaknesses\n",
    "3. **Practice** basic cryptographic analysis\n",
    "4. **Learn** from historical examples\n",
    "\n",
    "---\n",
    "\n",
    "## ⚠️ Important Warning\n",
    "\n",
    "> **Never implement your own cryptographic algorithms in production!**\n",
    "\n",
    "This notebook is for **educational analysis only**."
   ]
  },
  {
   "cell_type": "code",
   "execution_count": 1,
   "id": "df54ca18",
   "metadata": {},
   "outputs": [
    {
     "name": "stdout",
     "output_type": "stream",
     "text": [
      "🔐 Chapter 2: Cryptography Fundamentals\n",
      "Simple examples to demonstrate crypto concepts\n",
      "=============================================\n"
     ]
    }
   ],
   "source": [
    "# Simple setup for cryptography examples\n",
    "import string\n",
    "\n",
    "print(\"🔐 Chapter 2: Cryptography Fundamentals\")\n",
    "print(\"Simple examples to demonstrate crypto concepts\")\n",
    "print(\"=\" * 45)"
   ]
  },
  {
   "cell_type": "markdown",
   "id": "6a391efc",
   "metadata": {},
   "source": [
    "# Example 1: Caesar Cipher\n",
    "\n",
    "The simplest cipher - shift each letter by a fixed amount.\n",
    "Let's see how easy it is to break!"
   ]
  },
  {
   "cell_type": "code",
   "execution_count": 2,
   "id": "d6bae69e",
   "metadata": {},
   "outputs": [
    {
     "name": "stdout",
     "output_type": "stream",
     "text": [
      "Original:  HELLO\n",
      "Encrypted: KHOOR\n",
      "Decrypted: HELLO\n"
     ]
    }
   ],
   "source": [
    "# Simple Caesar Cipher implementation\n",
    "def caesar_shift(text, shift):\n",
    "    \"\"\"Shift letters by a fixed amount\"\"\"\n",
    "    result = \"\"\n",
    "    for char in text.upper():\n",
    "        if char.isalpha():\n",
    "            # Shift the letter\n",
    "            shifted = ord(char) - ord('A')\n",
    "            shifted = (shifted + shift) % 26\n",
    "            result += chr(shifted + ord('A'))\n",
    "        else:\n",
    "            result += char\n",
    "    return result\n",
    "\n",
    "# Test the Caesar cipher\n",
    "message = \"HELLO\"\n",
    "shift = 3\n",
    "\n",
    "encrypted = caesar_shift(message, shift)\n",
    "decrypted = caesar_shift(encrypted, -shift)\n",
    "\n",
    "print(f\"Original:  {message}\")\n",
    "print(f\"Encrypted: {encrypted}\")\n",
    "print(f\"Decrypted: {decrypted}\")"
   ]
  },
  {
   "cell_type": "markdown",
   "id": "9e6c463c",
   "metadata": {},
   "source": [
    "# Caesar Cipher Weakness: Brute Force\n",
    "\n",
    "Since there are only 25 possible shifts, we can try them all!"
   ]
  },
  {
   "cell_type": "code",
   "execution_count": 3,
   "id": "c78dd280",
   "metadata": {},
   "outputs": [
    {
     "name": "stdout",
     "output_type": "stream",
     "text": [
      "Breaking Caesar cipher: KHOOR\n",
      "------------------------------\n",
      "Shift  0: KHOOR\n",
      "Shift  1: JGNNQ\n",
      "Shift  2: IFMMP\n",
      "Shift  3: HELLO\n",
      "Shift  4: GDKKN\n",
      "Shift  5: FCJJM\n",
      "Shift  6: EBIIL\n",
      "Shift  7: DAHHK\n",
      "Shift  8: CZGGJ\n",
      "Shift  9: BYFFI\n",
      "Shift 10: AXEEH\n",
      "Shift 11: ZWDDG\n",
      "Shift 12: YVCCF\n",
      "Shift 13: XUBBE\n",
      "Shift 14: WTAAD\n",
      "Shift 15: VSZZC\n",
      "Shift 16: URYYB\n",
      "Shift 17: TQXXA\n",
      "Shift 18: SPWWZ\n",
      "Shift 19: ROVVY\n",
      "Shift 20: QNUUX\n",
      "Shift 21: PMTTW\n",
      "Shift 22: OLSSV\n",
      "Shift 23: NKRRU\n",
      "Shift 24: MJQQT\n",
      "Shift 25: LIPPS\n"
     ]
    }
   ],
   "source": [
    "# Break Caesar cipher by trying all shifts\n",
    "def break_caesar(ciphertext):\n",
    "    \"\"\"Try all possible Caesar shifts\"\"\"\n",
    "    print(f\"Breaking Caesar cipher: {ciphertext}\")\n",
    "    print(\"-\" * 30)\n",
    "    \n",
    "    for shift in range(26):\n",
    "        decrypted = caesar_shift(ciphertext, -shift)\n",
    "        print(f\"Shift {shift:2d}: {decrypted}\")\n",
    "\n",
    "# Attack our encrypted message\n",
    "break_caesar(\"KHOOR\")  # \"HELLO\" with shift 3"
   ]
  },
  {
   "cell_type": "markdown",
   "id": "b57e414c",
   "metadata": {},
   "source": [
    "# Example 2: Letter Frequency Analysis\n",
    "\n",
    "English letters appear with different frequencies. This breaks substitution ciphers!"
   ]
  },
  {
   "cell_type": "code",
   "execution_count": 4,
   "id": "20750b03",
   "metadata": {},
   "outputs": [
    {
     "name": "stdout",
     "output_type": "stream",
     "text": [
      "Letter frequencies in our sample:\n",
      "A: 1 times\n",
      "B: 1 times\n",
      "C: 1 times\n",
      "D: 1 times\n",
      "E: 3 times\n",
      "F: 1 times\n",
      "G: 1 times\n",
      "H: 2 times\n",
      "I: 1 times\n",
      "J: 1 times\n",
      "K: 1 times\n",
      "L: 1 times\n",
      "M: 1 times\n",
      "N: 1 times\n",
      "O: 4 times\n",
      "P: 1 times\n",
      "Q: 1 times\n",
      "R: 2 times\n",
      "S: 1 times\n",
      "T: 2 times\n",
      "U: 2 times\n",
      "V: 1 times\n",
      "W: 1 times\n",
      "X: 1 times\n",
      "Y: 1 times\n",
      "Z: 1 times\n",
      "\n",
      "Most common letter: O\n",
      "In English, 'E' is usually most common!\n"
     ]
    }
   ],
   "source": [
    "# Simple frequency analysis\n",
    "def count_letters(text):\n",
    "    \"\"\"Count how often each letter appears\"\"\"\n",
    "    counts = {}\n",
    "    for char in text.upper():\n",
    "        if char.isalpha():\n",
    "            counts[char] = counts.get(char, 0) + 1\n",
    "    return counts\n",
    "\n",
    "# English letter frequencies (approximate %)\n",
    "english_freq = {\n",
    "    'E': 12, 'T': 9, 'A': 8, 'O': 7, 'I': 7, 'N': 7, 'S': 6, 'H': 6,\n",
    "    'R': 6, 'D': 4, 'L': 4, 'C': 3, 'U': 3, 'M': 2, 'W': 2, 'F': 2,\n",
    "    'G': 2, 'Y': 2, 'P': 2, 'B': 1, 'V': 1, 'K': 1, 'J': 1, 'X': 1, 'Q': 1, 'Z': 1\n",
    "}\n",
    "\n",
    "# Test with a simple message\n",
    "sample_text = \"THE QUICK BROWN FOX JUMPS OVER THE LAZY DOG\"\n",
    "letter_counts = count_letters(sample_text)\n",
    "\n",
    "print(\"Letter frequencies in our sample:\")\n",
    "for letter in sorted(letter_counts.keys()):\n",
    "    count = letter_counts[letter]\n",
    "    print(f\"{letter}: {count} times\")\n",
    "\n",
    "print(f\"\\nMost common letter: {max(letter_counts, key=letter_counts.get)}\")\n",
    "print(\"In English, 'E' is usually most common!\")"
   ]
  },
  {
   "cell_type": "markdown",
   "id": "b2aba5e7",
   "metadata": {},
   "source": [
    "# Example 3: Simple Substitution Cipher\n",
    "\n",
    "Replace each letter with a different letter. Seems secure, but frequency analysis breaks it!"
   ]
  },
  {
   "cell_type": "code",
   "execution_count": 5,
   "id": "581bdde8",
   "metadata": {},
   "outputs": [
    {
     "name": "stdout",
     "output_type": "stream",
     "text": [
      "Keyword: SECRET\n",
      "Normal:  ABCDEFGHIJKLMNOPQRSTUVWXYZ\n",
      "Cipher:  SECRTABDFGHIJKLMNOPQUVWXYZ\n",
      "\n",
      "Original:  ATTACK AT DAWN\n",
      "Encrypted: SQQSCH SQ RSWK\n"
     ]
    }
   ],
   "source": [
    "# Simple substitution cipher using a keyword\n",
    "def create_cipher_alphabet(keyword):\n",
    "    \"\"\"Create a cipher alphabet from a keyword\"\"\"\n",
    "    # Remove duplicate letters from keyword\n",
    "    unique_chars = \"\"\n",
    "    for char in keyword.upper():\n",
    "        if char.isalpha() and char not in unique_chars:\n",
    "            unique_chars += char\n",
    "    \n",
    "    # Add remaining letters\n",
    "    cipher_alphabet = unique_chars\n",
    "    for char in \"ABCDEFGHIJKLMNOPQRSTUVWXYZ\":\n",
    "        if char not in cipher_alphabet:\n",
    "            cipher_alphabet += char\n",
    "    \n",
    "    return cipher_alphabet\n",
    "\n",
    "def substitution_encrypt(text, cipher_alphabet):\n",
    "    \"\"\"Encrypt using substitution cipher\"\"\"\n",
    "    normal_alphabet = \"ABCDEFGHIJKLMNOPQRSTUVWXYZ\"\n",
    "    result = \"\"\n",
    "    \n",
    "    for char in text.upper():\n",
    "        if char.isalpha():\n",
    "            pos = ord(char) - ord('A')\n",
    "            result += cipher_alphabet[pos]\n",
    "        else:\n",
    "            result += char\n",
    "    return result\n",
    "\n",
    "# Test substitution cipher\n",
    "keyword = \"SECRET\"\n",
    "cipher_alphabet = create_cipher_alphabet(keyword)\n",
    "normal_alphabet = \"ABCDEFGHIJKLMNOPQRSTUVWXYZ\"\n",
    "\n",
    "print(f\"Keyword: {keyword}\")\n",
    "print(f\"Normal:  {normal_alphabet}\")\n",
    "print(f\"Cipher:  {cipher_alphabet}\")\n",
    "print()\n",
    "\n",
    "message = \"ATTACK AT DAWN\"\n",
    "encrypted = substitution_encrypt(message, cipher_alphabet)\n",
    "\n",
    "print(f\"Original:  {message}\")\n",
    "print(f\"Encrypted: {encrypted}\")"
   ]
  },
  {
   "cell_type": "markdown",
   "id": "d8f23344",
   "metadata": {},
   "source": [
    "# Key Lessons from Classical Cryptography\n",
    "\n",
    "## What We Learned:\n",
    "\n",
    "1. **Simple ciphers are easily broken** - Caesar cipher has only 25 keys\n",
    "2. **Patterns reveal secrets** - Letter frequency analysis breaks substitution\n",
    "3. **Security through obscurity fails** - Knowing the method doesn't help if crypto is strong\n",
    "4. **Brute force works on weak systems** - Small key spaces are vulnerable\n",
    "\n",
    "## Modern Implications:\n",
    "\n",
    "- Use **established algorithms** (AES, RSA)\n",
    "- Use **proper libraries** (never implement your own)\n",
    "- Understand **why** things work, not just how\n",
    "- **Length and randomness** matter for security"
   ]
  },
  {
   "cell_type": "markdown",
   "id": "0e6e4abe",
   "metadata": {},
   "source": [
    "# Chapter 2 Exercises\n",
    "\n",
    "Try these to practice what you've learned!"
   ]
  },
  {
   "cell_type": "code",
   "execution_count": 6,
   "id": "080346bf",
   "metadata": {},
   "outputs": [
    {
     "name": "stdout",
     "output_type": "stream",
     "text": [
      "Exercise 1: Smart Caesar Cipher Breaker\n",
      "Write a function that finds the shift by looking for 'THE' or 'AND'\n"
     ]
    }
   ],
   "source": [
    "# Exercise 1: Create a Caesar cipher breaker\n",
    "def exercise_1():\n",
    "    \"\"\"\n",
    "    Exercise 1: Write a function that automatically finds the most likely\n",
    "    Caesar cipher shift by looking for common English words\n",
    "    \"\"\"\n",
    "    print(\"Exercise 1: Smart Caesar Cipher Breaker\")\n",
    "    print(\"Write a function that finds the shift by looking for 'THE' or 'AND'\")\n",
    "    \n",
    "    # Test ciphertext (hint: it contains common English words)\n",
    "    mystery_cipher = \"WKH TXLFN EURZQ IRA\"\n",
    "    \n",
    "    # Your code here:\n",
    "    # def smart_caesar_break(ciphertext):\n",
    "    #     # Try each shift and look for common words\n",
    "    #     return best_shift\n",
    "\n",
    "exercise_1()"
   ]
  },
  {
   "cell_type": "code",
   "execution_count": 7,
   "id": "5be2c830",
   "metadata": {},
   "outputs": [
    {
     "name": "stdout",
     "output_type": "stream",
     "text": [
      "Exercise 2: Frequency Analysis\n",
      "Mystery text: FOD JELNV IQLHR GLY KPNWU LBDQ FOD CGMX RLT\n",
      "Find the frequencies and guess which letters represent E, T, A\n",
      "L: 5 times\n",
      "D: 3 times\n",
      "F: 2 times\n",
      "O: 2 times\n",
      "N: 2 times\n",
      "Q: 2 times\n",
      "R: 2 times\n",
      "G: 2 times\n",
      "J: 1 times\n",
      "E: 1 times\n",
      "V: 1 times\n",
      "I: 1 times\n",
      "H: 1 times\n",
      "Y: 1 times\n",
      "K: 1 times\n",
      "P: 1 times\n",
      "W: 1 times\n",
      "U: 1 times\n",
      "B: 1 times\n",
      "C: 1 times\n",
      "M: 1 times\n",
      "X: 1 times\n",
      "T: 1 times\n"
     ]
    }
   ],
   "source": [
    "# Exercise 2: Frequency analysis challenge\n",
    "def exercise_2():\n",
    "    \"\"\"\n",
    "    Exercise 2: Given this substitution cipher, use frequency analysis\n",
    "    to figure out what letters E, T, and A likely represent\n",
    "    \"\"\"\n",
    "    print(\"Exercise 2: Frequency Analysis\")\n",
    "    \n",
    "    # This is English text encrypted with substitution cipher\n",
    "    mystery_text = \"FOD JELNV IQLHR GLY KPNWU LBDQ FOD CGMX RLT\"\n",
    "    \n",
    "    print(f\"Mystery text: {mystery_text}\")\n",
    "    print(\"Find the frequencies and guess which letters represent E, T, A\")\n",
    "    \n",
    "    # Your code here - analyze the frequencies!\n",
    "    letter_counts = count_letters(mystery_text)\n",
    "    for letter, count in sorted(letter_counts.items(), key=lambda x: x[1], reverse=True):\n",
    "        print(f\"{letter}: {count} times\")\n",
    "\n",
    "exercise_2()"
   ]
  },
  {
   "cell_type": "markdown",
   "id": "322f63b0",
   "metadata": {},
   "source": [
    "# Chapter 2 Conclusion\n",
    "\n",
    "## What We Accomplished:\n",
    "\n",
    "✅ **Understood** why simple ciphers fail\n",
    "\n",
    "✅ **Practiced** breaking Caesar and substitution ciphers\n",
    "\n",
    "✅ **Learned** about frequency analysis\n",
    "\n",
    "✅ **Reinforced** the rule: Never roll your own crypto!\n",
    "\n",
    "## Key Takeaway:\n",
    "\n",
    "> **Use established cryptographic libraries and let the experts handle implementation!**\n",
    "\n",
    "Modern cryptography builds on these lessons to create truly secure systems."
   ]
  },
  {
   "cell_type": "markdown",
   "id": "203dc249",
   "metadata": {},
   "source": [
    "# Bonus: Modern Crypto Libraries\n",
    "\n",
    "Let's see how to use crypto **properly** with established libraries!"
   ]
  },
  {
   "cell_type": "code",
   "execution_count": 8,
   "id": "3c74fb6a",
   "metadata": {},
   "outputs": [
    {
     "name": "stdout",
     "output_type": "stream",
     "text": [
      "🎲 Secure Random Number Generation\n",
      "========================================\n",
      "Secure 256-bit number: 22631424801554623772055177035603443363042755747119627934000729059158924157231\n",
      "Secure hex token: 570d51d805a11f10b9c1dc1b46834ea7dfc60daed7be39f7952d8e2c11a00260\n",
      "Secure random bytes: 6c1f4a94f3cc8861cdf8ac5d8bdb3e74f207853c91b05bd421c8c1b5c6b39641\n",
      "\n",
      "⚠️  NEVER use regular random for crypto!\n",
      "random.random() is predictable and insecure\n"
     ]
    }
   ],
   "source": [
    "# Example: Proper Secure Random Number Generation\n",
    "import secrets\n",
    "import os\n",
    "\n",
    "print(\"🎲 Secure Random Number Generation\")\n",
    "print(\"=\" * 40)\n",
    "\n",
    "# GOOD: Cryptographically secure random\n",
    "secure_random = secrets.randbits(256)\n",
    "secure_token = secrets.token_hex(32)\n",
    "secure_bytes = os.urandom(32)\n",
    "\n",
    "print(f\"Secure 256-bit number: {secure_random}\")\n",
    "print(f\"Secure hex token: {secure_token}\")\n",
    "print(f\"Secure random bytes: {secure_bytes.hex()}\")\n",
    "\n",
    "print(\"\\n⚠️  NEVER use regular random for crypto!\")\n",
    "print(\"random.random() is predictable and insecure\")"
   ]
  },
  {
   "cell_type": "code",
   "execution_count": 9,
   "id": "ff15a0bd",
   "metadata": {},
   "outputs": [
    {
     "name": "stdout",
     "output_type": "stream",
     "text": [
      "🔐 Password Hashing Best Practices\n",
      "========================================\n",
      "❌ Weak (plain SHA256): 3d0efb0e3071066fa0807984c1b3ebe21915ad246309f8e3e642eb6931fc2434\n",
      "✅ Better (PBKDF2+salt): 757a810a69215aaa3d12ca12e70afe6ff59cd5a834f179a8c40c0a95733c1957de3ec4555d88c438b6dc3ee44394e579\n",
      "\n",
      "💡 In production, use bcrypt, scrypt, or Argon2!\n",
      "They handle salting and adaptive costs automatically.\n"
     ]
    }
   ],
   "source": [
    "# Example: Proper Password Hashing\n",
    "import hashlib\n",
    "import secrets\n",
    "\n",
    "print(\"🔐 Password Hashing Best Practices\")\n",
    "print(\"=\" * 40)\n",
    "\n",
    "def weak_hash_demo(password):\n",
    "    \"\"\"DON'T DO THIS - Just for demonstration!\"\"\"\n",
    "    return hashlib.sha256(password.encode()).hexdigest()\n",
    "\n",
    "def better_hash_demo(password):\n",
    "    \"\"\"Better approach with salt\"\"\"\n",
    "    salt = secrets.token_hex(16)\n",
    "    return salt + hashlib.pbkdf2_hmac('sha256', password.encode(), \n",
    "                                      bytes.fromhex(salt), 100000).hex()\n",
    "\n",
    "# Test with sample password\n",
    "password = \"MySecurePassword123!\"\n",
    "\n",
    "weak = weak_hash_demo(password)\n",
    "better = better_hash_demo(password)\n",
    "\n",
    "print(f\"❌ Weak (plain SHA256): {weak}\")\n",
    "print(f\"✅ Better (PBKDF2+salt): {better}\")\n",
    "\n",
    "print(\"\\n💡 In production, use bcrypt, scrypt, or Argon2!\")\n",
    "print(\"They handle salting and adaptive costs automatically.\")"
   ]
  },
  {
   "cell_type": "code",
   "execution_count": 10,
   "id": "4b9375f2",
   "metadata": {},
   "outputs": [
    {
     "name": "stdout",
     "output_type": "stream",
     "text": [
      "⏱️  Timing Attack Prevention\n",
      "========================================\n",
      "Testing vulnerable comparison:\n",
      "Correct vs Wrong(end):   False\n",
      "Correct vs Wrong(start): False\n",
      "\n",
      "Testing secure comparison:\n",
      "Correct vs Wrong(end):   False\n",
      "Correct vs Wrong(start): False\n",
      "\n",
      "💡 Always use hmac.compare_digest() for comparing secrets!\n",
      "It takes the same time regardless of where differences occur.\n"
     ]
    }
   ],
   "source": [
    "# Example: Timing Attack Prevention\n",
    "import hmac\n",
    "import time\n",
    "\n",
    "print(\"⏱️  Timing Attack Prevention\")\n",
    "print(\"=\" * 40)\n",
    "\n",
    "def vulnerable_compare(hash1, hash2):\n",
    "    \"\"\"VULNERABLE - stops at first difference\"\"\"\n",
    "    return hash1 == hash2\n",
    "\n",
    "def secure_compare(hash1, hash2):\n",
    "    \"\"\"SECURE - constant time comparison\"\"\"\n",
    "    return hmac.compare_digest(hash1, hash2)\n",
    "\n",
    "# Test with similar hashes\n",
    "correct_hash = \"5d41402abc4b2a76b9719d911017c592\"\n",
    "wrong_hash1 = \"5d41402abc4b2a76b9719d911017c593\"  # differs at end\n",
    "wrong_hash2 = \"6d41402abc4b2a76b9719d911017c592\"  # differs at start\n",
    "\n",
    "print(\"Testing vulnerable comparison:\")\n",
    "print(f\"Correct vs Wrong(end):   {vulnerable_compare(correct_hash, wrong_hash1)}\")\n",
    "print(f\"Correct vs Wrong(start): {vulnerable_compare(correct_hash, wrong_hash2)}\")\n",
    "\n",
    "print(\"\\nTesting secure comparison:\")\n",
    "print(f\"Correct vs Wrong(end):   {secure_compare(correct_hash, wrong_hash1)}\")\n",
    "print(f\"Correct vs Wrong(start): {secure_compare(correct_hash, wrong_hash2)}\")\n",
    "\n",
    "print(\"\\n💡 Always use hmac.compare_digest() for comparing secrets!\")\n",
    "print(\"It takes the same time regardless of where differences occur.\")"
   ]
  },
  {
   "cell_type": "markdown",
   "id": "13ecaea6",
   "metadata": {},
   "source": [
    "# 🎯 Modern Crypto Recommendations for Programmers\n",
    "\n",
    "## **Use These Standards:**\n",
    "\n",
    "### Symmetric Encryption:\n",
    "- **AES-256-GCM** (authenticated encryption)\n",
    "- **ChaCha20-Poly1305** (modern alternative)\n",
    "\n",
    "### Password Hashing:\n",
    "- **bcrypt** (most common, well-tested)\n",
    "- **Argon2** (newest, most secure)\n",
    "- **scrypt** (memory-hard alternative)\n",
    "\n",
    "### Random Numbers:\n",
    "- **secrets.randbits()** (Python)\n",
    "- **crypto.randomBytes()** (Node.js)\n",
    "- **RandomNumberGenerator** (C#)\n",
    "\n",
    "### Libraries to Trust:\n",
    "- **cryptography** (Python)\n",
    "- **crypto** (Node.js built-in)\n",
    "- **System.Security.Cryptography** (C#)\n",
    "- **Bouncy Castle** (Java/C#)\n",
    "\n",
    "## **Golden Rules:**\n",
    "1. ✅ **Use established libraries**\n",
    "2. ✅ **Generate random IVs/salts**\n",
    "3. ✅ **Use constant-time comparisons**\n",
    "4. ✅ **Plan for key rotation**\n",
    "5. ❌ **Never implement your own crypto**"
   ]
  }
 ],
 "metadata": {
  "kernelspec": {
   "display_name": ".venv",
   "language": "python",
   "name": "python3"
  },
  "language_info": {
   "codemirror_mode": {
    "name": "ipython",
    "version": 3
   },
   "file_extension": ".py",
   "mimetype": "text/x-python",
   "name": "python",
   "nbconvert_exporter": "python",
   "pygments_lexer": "ipython3",
   "version": "3.13.5"
  }
 },
 "nbformat": 4,
 "nbformat_minor": 5
}
